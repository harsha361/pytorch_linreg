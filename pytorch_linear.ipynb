{
  "nbformat": 4,
  "nbformat_minor": 0,
  "metadata": {
    "colab": {
      "provenance": [],
      "authorship_tag": "ABX9TyN2nWST8M4hpWjoiw8NqRky",
      "include_colab_link": true
    },
    "kernelspec": {
      "name": "python3",
      "display_name": "Python 3"
    },
    "language_info": {
      "name": "python"
    }
  },
  "cells": [
    {
      "cell_type": "markdown",
      "metadata": {
        "id": "view-in-github",
        "colab_type": "text"
      },
      "source": [
        "<a href=\"https://colab.research.google.com/github/harsha361/pytorch_linreg/blob/main/pytorch_linear.ipynb\" target=\"_parent\"><img src=\"https://colab.research.google.com/assets/colab-badge.svg\" alt=\"Open In Colab\"/></a>"
      ]
    },
    {
      "cell_type": "code",
      "source": [
        "import torch\n",
        "from torch import nn\n",
        "import matplotlib.pyplot as plt"
      ],
      "metadata": {
        "id": "DJA7jlrK14pE"
      },
      "execution_count": 2,
      "outputs": []
    },
    {
      "cell_type": "code",
      "source": [
        "torch.__version__"
      ],
      "metadata": {
        "colab": {
          "base_uri": "https://localhost:8080/",
          "height": 36
        },
        "id": "jIcIb0Ai153C",
        "outputId": "054a5ac0-e3d5-4ef2-a7dd-e7aebd387076"
      },
      "execution_count": 3,
      "outputs": [
        {
          "output_type": "execute_result",
          "data": {
            "text/plain": [
              "'2.2.1+cu121'"
            ],
            "application/vnd.google.colaboratory.intrinsic+json": {
              "type": "string"
            }
          },
          "metadata": {},
          "execution_count": 3
        }
      ]
    },
    {
      "cell_type": "code",
      "source": [
        "weight=0.7\n",
        "bias=0.3\n",
        "start=0\n",
        "end=1\n",
        "step=0.02\n",
        "x=torch.arange(start,end,step).unsqueeze(1)\n",
        "y=weight*x+bias\n",
        "x[:10],y[:10]"
      ],
      "metadata": {
        "colab": {
          "base_uri": "https://localhost:8080/"
        },
        "id": "DzIV1hXyDmqj",
        "outputId": "d90aeaef-8e64-42b1-c714-f7c30cf67f21"
      },
      "execution_count": 4,
      "outputs": [
        {
          "output_type": "execute_result",
          "data": {
            "text/plain": [
              "(tensor([[0.0000],\n",
              "         [0.0200],\n",
              "         [0.0400],\n",
              "         [0.0600],\n",
              "         [0.0800],\n",
              "         [0.1000],\n",
              "         [0.1200],\n",
              "         [0.1400],\n",
              "         [0.1600],\n",
              "         [0.1800]]),\n",
              " tensor([[0.3000],\n",
              "         [0.3140],\n",
              "         [0.3280],\n",
              "         [0.3420],\n",
              "         [0.3560],\n",
              "         [0.3700],\n",
              "         [0.3840],\n",
              "         [0.3980],\n",
              "         [0.4120],\n",
              "         [0.4260]]))"
            ]
          },
          "metadata": {},
          "execution_count": 4
        }
      ]
    },
    {
      "cell_type": "code",
      "source": [
        "#splitting data into train and test data.\n",
        "trainsplit=int(0.8*len(x))\n",
        "xtrain,ytrain=x[:trainsplit],y[:trainsplit]\n",
        "xtest,ytest=x[trainsplit:],y[trainsplit:]\n"
      ],
      "metadata": {
        "id": "f24Fh1IzG_4r"
      },
      "execution_count": 5,
      "outputs": []
    },
    {
      "cell_type": "code",
      "source": [
        "def plotpred(traindata=xtrain,trainlabel=ytrain,\n",
        "             testdata=xtest,testlabel=ytest,predictions=None):\n",
        "  plt.figure(figsize=(7,7))\n",
        "  plt.scatter(traindata,trainlabel,c='b',s=4,label=\"trainingdata\")\n",
        "  plt.scatter(testdata,testlabel,c='g',s=4,label=\"testingdata\")\n",
        "  if predictions is not None:\n",
        "    plt.scatter(testdata,predictions,c='r',label=\"predictions\")\n",
        "  plt.legend(prop={'size':10})\n",
        "\n"
      ],
      "metadata": {
        "id": "i7VVuPLKEHVl"
      },
      "execution_count": 14,
      "outputs": []
    },
    {
      "cell_type": "code",
      "source": [
        "plotpred()"
      ],
      "metadata": {
        "colab": {
          "base_uri": "https://localhost:8080/",
          "height": 599
        },
        "id": "6U1Yd5dtFv_a",
        "outputId": "3c683a7c-abc2-44d6-a362-c36eb0619525"
      },
      "execution_count": 7,
      "outputs": [
        {
          "output_type": "display_data",
          "data": {
            "text/plain": [
              "<Figure size 700x700 with 1 Axes>"
            ],
            "image/png": "[encoded data removed]"
          },
          "metadata": {}
        }
      ]
    },
    {
      "cell_type": "code",
      "source": [
        "#create a linear regression model class.\n",
        "class linregmodel(nn.Module):\n",
        "  def __init__(self):\n",
        "    super().__init__()\n",
        "    self.linear_layer=nn.Linear(in_features=1,out_features=1)\n",
        "  def forward(self,x):\n",
        "    return self.linear_layer(x)\n",
        "\n",
        "torch.manual_seed(42)\n",
        "model1=linregmodel()\n",
        "model1,model1.state_dict()\n",
        "\n",
        "\n",
        "\n"
      ],
      "metadata": {
        "colab": {
          "base_uri": "https://localhost:8080/"
        },
        "id": "8IQVdkTKJ9zL",
        "outputId": "366414ea-387b-4d81-fbe9-8234df68a00a"
      },
      "execution_count": 8,
      "outputs": [
        {
          "output_type": "execute_result",
          "data": {
            "text/plain": [
              "(linregmodel(\n",
              "   (linear_layer): Linear(in_features=1, out_features=1, bias=True)\n",
              " ),\n",
              " OrderedDict([('linear_layer.weight', tensor([[0.7645]])),\n",
              "              ('linear_layer.bias', tensor([0.8300]))]))"
            ]
          },
          "metadata": {},
          "execution_count": 8
        }
      ]
    },
    {
      "cell_type": "code",
      "source": [
        "#building a train and test loop.\n",
        "\n",
        "lossfn=nn.L1Loss()\n",
        "optimizer=torch.optim.SGD(model1.parameters(),lr=0.01)\n",
        "epochs=1000\n",
        "for epoch in range(epochs):\n",
        "  ypred=model1(xtrain)\n",
        "  loss=lossfn(ypred,ytrain)\n",
        "  optimizer.zero_grad()\n",
        "  loss.backward()\n",
        "  optimizer.step()\n",
        "  model1.eval()\n",
        "  with torch.inference_mode():\n",
        "    testpred=model1(xtest)\n",
        "    testloss=lossfn(testpred,ytest)\n",
        "  if epoch%100==0:\n",
        "    print(f\"epoch:{epoch}| trainloss:{loss}'|testloss:{testloss}\")\n",
        "\n"
      ],
      "metadata": {
        "colab": {
          "base_uri": "https://localhost:8080/"
        },
        "id": "Wn1VLtsZUjZt",
        "outputId": "91255818-c10d-45d5-a02c-ee2521de16a2"
      },
      "execution_count": 9,
      "outputs": [
        {
          "output_type": "stream",
          "name": "stdout",
          "text": [
            "epoch:0| trainloss:0.5551779866218567'|testloss:0.5739762187004089\n",
            "epoch:100| trainloss:0.006215679459273815'|testloss:0.014086711220443249\n",
            "epoch:200| trainloss:0.0012645035749301314'|testloss:0.013801807537674904\n",
            "epoch:300| trainloss:0.0012645035749301314'|testloss:0.013801807537674904\n",
            "epoch:400| trainloss:0.0012645035749301314'|testloss:0.013801807537674904\n",
            "epoch:500| trainloss:0.0012645035749301314'|testloss:0.013801807537674904\n",
            "epoch:600| trainloss:0.0012645035749301314'|testloss:0.013801807537674904\n",
            "epoch:700| trainloss:0.0012645035749301314'|testloss:0.013801807537674904\n",
            "epoch:800| trainloss:0.0012645035749301314'|testloss:0.013801807537674904\n",
            "epoch:900| trainloss:0.0012645035749301314'|testloss:0.013801807537674904\n"
          ]
        }
      ]
    },
    {
      "cell_type": "code",
      "source": [
        "from pprint import pprint\n",
        "print(\"the model learned the following as weights and bias\")\n",
        "pprint(model1.state_dict())\n",
        "print(f\"weights:{weight},bias:{bias}\")\n",
        "\n"
      ],
      "metadata": {
        "colab": {
          "base_uri": "https://localhost:8080/"
        },
        "id": "boRIJg8o97mT",
        "outputId": "67339f02-3b35-4e01-cf18-c9bd3c69acff"
      },
      "execution_count": 11,
      "outputs": [
        {
          "output_type": "stream",
          "name": "stdout",
          "text": [
            "the model learned the following as weights and bias\n",
            "OrderedDict([('linear_layer.weight', tensor([[0.6968]])),\n",
            "             ('linear_layer.bias', tensor([0.3025]))])\n",
            "weights:0.7,bias:0.3\n"
          ]
        }
      ]
    },
    {
      "cell_type": "code",
      "source": [
        "#making predictions.\n",
        "model1.eval()\n",
        "with torch.inference_mode():\n",
        "  ypreds=model1(xtest)\n",
        "ypreds"
      ],
      "metadata": {
        "colab": {
          "base_uri": "https://localhost:8080/"
        },
        "id": "cmVSsLrhEr6m",
        "outputId": "ac9a33b8-f216-4d36-ccdc-b595245cacbb"
      },
      "execution_count": 12,
      "outputs": [
        {
          "output_type": "execute_result",
          "data": {
            "text/plain": [
              "tensor([[0.8600],\n",
              "        [0.8739],\n",
              "        [0.8878],\n",
              "        [0.9018],\n",
              "        [0.9157],\n",
              "        [0.9296],\n",
              "        [0.9436],\n",
              "        [0.9575],\n",
              "        [0.9714],\n",
              "        [0.9854]])"
            ]
          },
          "metadata": {},
          "execution_count": 12
        }
      ]
    },
    {
      "cell_type": "code",
      "source": [
        "plotpred(predictions=ypreds)"
      ],
      "metadata": {
        "colab": {
          "base_uri": "https://localhost:8080/",
          "height": 599
        },
        "id": "dDFMoekzFnmD",
        "outputId": "d52a4dd2-4e30-42d4-e42d-07d18f6c7f97"
      },
      "execution_count": 15,
      "outputs": [
        {
          "output_type": "display_data",
          "data": {
            "text/plain": [
              "<Figure size 700x700 with 1 Axes>"
            ],
            "image/png": "[encoded data removed]"
          },
          "metadata": {}
        }
      ]
    }
  ]
}